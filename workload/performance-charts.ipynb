{
 "cells": [
  {
   "cell_type": "markdown",
   "metadata": {},
   "source": [
    "# Create performance charts\n",
    "This notebook demonstrates how to create charts for a performance run or set of performance runs"
   ]
  },
  {
   "cell_type": "code",
   "execution_count": null,
   "metadata": {},
   "outputs": [],
   "source": [
    "# Install notebook requirements if needed\n",
    "import sys\n",
    "!{sys.executable} -m pip install -r requirements.txt"
   ]
  },
  {
   "cell_type": "code",
   "execution_count": null,
   "metadata": {},
   "outputs": [],
   "source": [
    "import plotly.graph_objects as go\n",
    "from harmony.charts import create_bar, create_data_frame, display_bar_chart"
   ]
  },
  {
   "cell_type": "code",
   "execution_count": null,
   "metadata": {},
   "outputs": [],
   "source": [
    "# Replace the example data files with files from the performance runs to chart.\n",
    "# The key in the dictionary should match the label to use for that particular run.\n",
    "data_files_dict = {\n",
    "    'One node, one user': 'examples/1-node-1-user.csv',\n",
    "    'One node, ten users': 'examples/1-node-10-users.csv'\n",
    "}"
   ]
  },
  {
   "cell_type": "markdown",
   "metadata": {},
   "source": [
    "## Display limited set of custom charts"
   ]
  },
  {
   "cell_type": "code",
   "execution_count": null,
   "metadata": {},
   "outputs": [],
   "source": [
    "# The charts to generate\n",
    "charts= [{'title': 'Average response time',\n",
    "          'column': 'Average Response Time',\n",
    "          'yaxis_title': 'ms'},\n",
    "         {'title': 'Request response time (75th percentile)',\n",
    "          'column': '75%',\n",
    "          'yaxis_title': 'ms'},\n",
    "         {'title': 'Request response time (99th percentile)',\n",
    "          'column': '99%',\n",
    "          'yaxis_title': 'ms'}]"
   ]
  },
  {
   "cell_type": "code",
   "execution_count": null,
   "metadata": {},
   "outputs": [],
   "source": [
    "for chart in charts:\n",
    "    bar_objects = []\n",
    "    for label in data_files_dict:\n",
    "        df = create_data_frame(data_files_dict[label])\n",
    "        bar_object = create_bar(label, df, chart['column'])\n",
    "        bar_objects.append(bar_object)\n",
    "\n",
    "    fig = go.Figure(data=bar_objects)\n",
    "    display_bar_chart(fig, chart['title'], yaxis_title=chart['yaxis_title'])"
   ]
  },
  {
   "cell_type": "markdown",
   "metadata": {},
   "source": [
    "## Display charts for all locust performance data"
   ]
  },
  {
   "cell_type": "code",
   "execution_count": null,
   "metadata": {},
   "outputs": [],
   "source": [
    "# Get a list of all the columns in the data\n",
    "first_key = list(data_files_dict.keys())[0]\n",
    "df = create_data_frame(data_files_dict[first_key])\n",
    "columns = df.columns.tolist()\n",
    "columns.remove('Type')\n",
    "columns.remove('Name')\n",
    "\n",
    "for column in columns:\n",
    "    \n",
    "    bar_objects = []\n",
    "    for label in data_files_dict:\n",
    "        df = create_data_frame(data_files_dict[label])\n",
    "        bar_object = create_bar(label, df, column)\n",
    "        bar_objects.append(bar_object)\n",
    "\n",
    "    fig = go.Figure(data=bar_objects)\n",
    "    display_bar_chart(fig, column)"
   ]
  }
 ],
 "metadata": {
  "kernelspec": {
   "display_name": "3.8.2-workload",
   "language": "python",
   "name": "workload"
  },
  "language_info": {
   "codemirror_mode": {
    "name": "ipython",
    "version": 3
   },
   "file_extension": ".py",
   "mimetype": "text/x-python",
   "name": "python",
   "nbconvert_exporter": "python",
   "pygments_lexer": "ipython3",
   "version": "3.8.2"
  }
 },
 "nbformat": 4,
 "nbformat_minor": 4
}
