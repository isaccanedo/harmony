{
 "cells": [
  {
   "cell_type": "markdown",
   "metadata": {},
   "source": [
    "# Harmony PI 21.1 Sprint 1 Demo\n",
    "\n",
    "In Sprint 1 of PI 21.1, Harmony added the following\n",
    "1. allowing a request to specify collections by short name (HARMONY-229)\n",
    "2. providing an indication of how many granules will be processed in the request response (HARMONY-306)\n",
    "3. applying scaling and offsetting to the Zarr data returned (HARMONY-664)\n",
    "\n",
    "This notebook provides a basic workflow to demonstrate this functrionality. For more a general introduction and tutorial, see [Harmony API Introduction](./Harmony%20Api%20Introduction.ipynb).  Useful helpers for making the calls found in this notebook can be found under the [docs/notebook-helpers](./notebook-helpers) folder.\n",
    "\n",
    "## Prerequisites\n",
    "\n",
    "1. Install Python 3. This notebook is tested to work in 3.8 but should work in most recent 3.x versions.\n",
    "2. Install Jupyter: pip install jupyterlab\n",
    "3. Setup your ~/.netrc for Earthdata Login as described in Harmony API Introduction"
   ]
  },
  {
   "cell_type": "markdown",
   "metadata": {},
   "source": [
    "## Set Up AWS\n",
    "\n",
    "Once you have Zarr links, you can access them with your AWS credentials to the Harmony account.  Obtain the credentials and make sure your default AWS account uses them.  One way to do this is to edit `~/.aws/credentials` to have the following section:\n",
    "```\n",
    "[default]\n",
    "aws_access_key_id = YOUR_HARMONY_ACCESS_KEY_ID\n",
    "aws_secret_access_key = YOUR_HARMONY_SECRET_ACCESS_KEY\n",
    "```\n",
    "Restart your Jupyter kernel after completing this step"
   ]
  },
  {
   "cell_type": "markdown",
   "metadata": {},
   "source": [
    "## Setup notebook environment and imports\n",
    "\n",
    "We need to set up general-purpose imports and authentication"
   ]
  },
  {
   "cell_type": "code",
   "execution_count": null,
   "metadata": {
    "tags": []
   },
   "outputs": [],
   "source": [
    "# %load_ext autoreload\n",
    "# %autoreload\n",
    "# %matplotlib inline\n",
    "\n",
    "import sys\n",
    "# Install dependencies into the Jupyter Kernel\n",
    "!{sys.executable} -m pip install -q -r ../notebook_helpers/requirements.txt\n",
    "!{sys.executable} -m pip install s3fs zarr\n",
    "\n",
    "# Import libraries used throughout the notebook\n",
    "import json\n",
    "from pprint import pprint\n",
    "from time import sleep\n",
    "from notebook_helpers import get, post, show, get_data_urls, show_async, show_async_condensed, print_async_status, show_shape\n"
   ]
  },
  {
   "cell_type": "markdown",
   "metadata": {},
   "source": [
    "## Request Subsetted Zarr Data Using ShortName\n",
    "\n",
    "This request asks for variable subsetting of L2 data with output in the Zarr format."
   ]
  },
  {
   "cell_type": "code",
   "execution_count": null,
   "metadata": {
    "tags": []
   },
   "outputs": [],
   "source": [
    "harmony_root = 'https://harmony.uat.earthdata.nasa.gov'\n",
    "asyncConfig = {\n",
    "    'short-name': 'harmony_example_l2',\n",
    "    'ogc-api-coverages_version': '1.0.0',\n",
    "    'variable': 'all',\n",
    "    'format': 'application/x-zarr',\n",
    "    'time': '(\"2020-01-10T00:00:00.000Z\":\"2020-01-13T00:00:00.000Z\")',\n",
    "    'max_results': '2'\n",
    "}\n",
    "\n",
    "async_url = harmony_root+'/{short-name}/ogc-api-coverages/{ogc-api-coverages_version}/collections/{variable}/coverage/rangeset?subset=time{time}&maxResults={max_results}&format={format}'.format(**asyncConfig)\n",
    "async_response = get(async_url)"
   ]
  },
  {
   "cell_type": "markdown",
   "metadata": {},
   "source": [
    "### Display numInputGranules field in response"
   ]
  },
  {
   "cell_type": "code",
   "execution_count": null,
   "metadata": {},
   "outputs": [],
   "source": [
    "print(async_response.json()[\"numInputGranules\"])"
   ]
  },
  {
   "cell_type": "markdown",
   "metadata": {},
   "source": [
    "### Wait for results and get data links"
   ]
  },
  {
   "cell_type": "code",
   "execution_count": null,
   "metadata": {},
   "outputs": [],
   "source": [
    "show_async_condensed(async_response, show_results=False)\n",
    "job_results = get(async_response.url).json()\n",
    "data_links = [link['href'] for link in job_results['links'] if link.get('rel') == 'data']\n"
   ]
  },
  {
   "cell_type": "markdown",
   "metadata": {},
   "source": [
    "### Open a Zarr file"
   ]
  },
  {
   "cell_type": "code",
   "execution_count": null,
   "metadata": {},
   "outputs": [],
   "source": [
    "import s3fs\n",
    "import zarr\n",
    "\n",
    "fs = s3fs.S3FileSystem(client_kwargs={'region_name':'us-west-2'})\n",
    "store = fs.get_mapper(root=data_links[0], check=False)\n",
    "zarr_file = zarr.open(store)\n",
    "zarr_file['blue_var'][0][100]"
   ]
  },
  {
   "cell_type": "code",
   "execution_count": null,
   "metadata": {},
   "outputs": [],
   "source": []
  }
 ],
 "metadata": {
  "file_extension": ".py",
  "kernelspec": {
   "display_name": "Python 3 (ipykernel)",
   "language": "python",
   "name": "python3"
  },
  "language_info": {
   "codemirror_mode": {
    "name": "ipython",
    "version": 3
   },
   "file_extension": ".py",
   "mimetype": "text/x-python",
   "name": "python",
   "nbconvert_exporter": "python",
   "pygments_lexer": "ipython3",
   "version": "3.8.2"
  },
  "mimetype": "text/x-python",
  "name": "python",
  "npconvert_exporter": "python",
  "pygments_lexer": "ipython3",
  "version": 3
 },
 "nbformat": 4,
 "nbformat_minor": 4
}
