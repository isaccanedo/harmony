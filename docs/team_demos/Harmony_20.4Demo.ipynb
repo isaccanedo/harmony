{
 "cells": [
  {
   "cell_type": "markdown",
   "metadata": {},
   "source": [
    "# Harmony Service Chaining: PI 20.4 Demo\n",
    "\n",
    "In PI 20.4, Harmony add service chaining capabilities to support requests that require functionality beyond that of a single service.\n",
    "This notebook provides a basic workflow to demonstrate service chaining. For more a general introduction and tutorial, see [Harmony API Introduction](./Harmony%20Api%20Introduction.ipynb).  Useful helpers for making the calls found in this notebook can be found under the [docs/notebook-helpers](./notebook-helpers) folder.\n",
    "\n",
    "## Prerequisites\n",
    "\n",
    "1. Install Python 3. This notebook is tested to work in 3.8 but should work in most recent 3.x versions.\n",
    "2. Install Jupyter: pip install jupyterlab\n",
    "3. Setup your ~/.netrc for Earthdata Login as described in Harmony API Introduction"
   ]
  },
  {
   "cell_type": "markdown",
   "metadata": {},
   "source": [
    "## Set Up AWS\n",
    "\n",
    "Once you have Zarr links, you can access them with your AWS credentials to the Harmony account.  Obtain the credentials and make sure your default AWS account uses them.  One way to do this is to edit `~/.aws/credentials` to have the following section:\n",
    "```\n",
    "[default]\n",
    "aws_access_key_id = YOUR_HARMONY_ACCESS_KEY_ID\n",
    "aws_secret_access_key = YOUR_HARMONY_SECRET_ACCESS_KEY\n",
    "```\n",
    "Restart your Jupyter kernel after completing this step"
   ]
  },
  {
   "cell_type": "markdown",
   "metadata": {},
   "source": [
    "## Setup notebook environment and imports\n",
    "\n",
    "We need to set up general-purpose imports and authentication"
   ]
  },
  {
   "cell_type": "code",
   "execution_count": null,
   "metadata": {
    "tags": []
   },
   "outputs": [],
   "source": [
    "%load_ext autoreload\n",
    "%autoreload\n",
    "\n",
    "import sys\n",
    "# Install dependencies into the Jupyter Kernel\n",
    "!{sys.executable} -m pip install -q -r ../notebook_helpers/requirements.txt\n",
    "!{sys.executable} -m pip install s3fs zarr\n",
    "%matplotlib inline\n",
    "\n",
    "# Import libraries used throughout the notebook\n",
    "import json\n",
    "from pprint import pprint\n",
    "from time import sleep\n",
    "from notebook_helpers import get, post, show, get_data_urls, show_async, show_async_condensed, print_async_status, show_shape\n"
   ]
  },
  {
   "cell_type": "markdown",
   "metadata": {},
   "source": [
    "## Chained Services - PODAAC L2 Subsetter -> Harmony Zarr Converter\n",
    "\n",
    "This request asks for spatial and variable subsetting of L2 data with output in the Zarr format. This requires chaining two services together, the PODAAC L2 Subsetter and the Harmony NetCDF to Zarr service."
   ]
  },
  {
   "cell_type": "code",
   "execution_count": null,
   "metadata": {
    "tags": []
   },
   "outputs": [],
   "source": [
    "harmony_root = 'https://harmony.uat.earthdata.nasa.gov'\n",
    "asyncConfig = {\n",
    "    'collection_id': 'C1234208438-POCLOUD',\n",
    "    'ogc-api-coverages_version': '1.0.0',\n",
    "    'variable': 'mean_sea_surface',\n",
    "    'format': 'application/x-zarr',\n",
    "    'lat': '(-40:-10)',\n",
    "    'lon': '(-50:0)',\n",
    "    'time': '(\"2007-12-31T00:00:00.000Z\":\"2008-01-02T05:00:00.000Z\")',\n",
    "}\n",
    "\n",
    "async_url = harmony_root+'/{collection_id}/ogc-api-coverages/{ogc-api-coverages_version}/collections/{variable}/coverage/rangeset?subset=lon{lon}&subset=lat{lat}&subset=time{time}&format={format}'.format(**asyncConfig)\n",
    "async_response = get(async_url)"
   ]
  },
  {
   "cell_type": "markdown",
   "metadata": {},
   "source": [
    "### Wait for results and get data links"
   ]
  },
  {
   "cell_type": "code",
   "execution_count": null,
   "metadata": {},
   "outputs": [],
   "source": [
    "show_async_condensed(async_response, show_results=False)\n",
    "job_results = get(async_response.url).json()\n",
    "data_links = [link['href'] for link in job_results['links'] if link.get('rel') == 'data']\n"
   ]
  },
  {
   "cell_type": "markdown",
   "metadata": {},
   "source": [
    "### Open a Zarr file"
   ]
  },
  {
   "cell_type": "code",
   "execution_count": null,
   "metadata": {},
   "outputs": [],
   "source": [
    "import s3fs\n",
    "import zarr\n",
    "\n",
    "fs = s3fs.S3FileSystem(client_kwargs={'region_name':'us-west-2'})\n",
    "store = fs.get_mapper(root=data_links[0], check=False)\n",
    "zarr_file = zarr.open(store)"
   ]
  },
  {
   "cell_type": "markdown",
   "metadata": {},
   "source": [
    "### Explore the Zarr file"
   ]
  },
  {
   "cell_type": "code",
   "execution_count": null,
   "metadata": {},
   "outputs": [],
   "source": [
    "print(zarr_file.tree())\n",
    "\n",
    "mss_array = zarr_file['mean_sea_surface']\n",
    "time_array = zarr_file['time']"
   ]
  },
  {
   "cell_type": "code",
   "execution_count": null,
   "metadata": {
    "tags": []
   },
   "outputs": [],
   "source": [
    "from matplotlib import pyplot as plt\n",
    "# Set up axis labels and title from metadata\n",
    "plt.figure(figsize=(18, 7))\n",
    "plt.ticklabel_format(style='plain', useOffset=False)\n",
    "plt.title(mss_array.attrs['long_name'])\n",
    "plt.xlabel(time_array.attrs['long_name'] )\n",
    "plt.ylabel(mss_array.attrs['long_name'])\n",
    "\n",
    "scale = mss_array.attrs['scale_factor']\n",
    "\n",
    "# Plot the data\n",
    "plt.plot(time_array, scale * mss_array[:])"
   ]
  },
  {
   "cell_type": "markdown",
   "metadata": {},
   "source": [
    "## Perform the same request in Earthdata Search\n",
    "\n",
    "https://search.uat.earthdata.nasa.gov/search/granules?p=C1234208438-POCLOUD&sb[0]=-40%2C-50%2C-10%2C0&qt=2007-12-31T00%3A00%3A00.000Z%2C2008-01-02T05%3A00%3A00.000Z\n"
   ]
  }
 ],
 "metadata": {
  "file_extension": ".py",
  "kernelspec": {
   "display_name": "Python 3 (ipykernel)",
   "language": "python",
   "name": "python3"
  },
  "language_info": {
   "codemirror_mode": {
    "name": "ipython",
    "version": 3
   },
   "file_extension": ".py",
   "mimetype": "text/x-python",
   "name": "python",
   "nbconvert_exporter": "python",
   "pygments_lexer": "ipython3",
   "version": "3.8.2"
  },
  "mimetype": "text/x-python",
  "name": "python",
  "npconvert_exporter": "python",
  "pygments_lexer": "ipython3",
  "version": 3
 },
 "nbformat": 4,
 "nbformat_minor": 4
}
