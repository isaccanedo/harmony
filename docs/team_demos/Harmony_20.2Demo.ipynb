{
 "cells": [
  {
   "cell_type": "markdown",
   "metadata": {},
   "source": [
    "# Harmony PI 20.2 Demo\n",
    "\n",
    "This notebook provides condensed examples of using Harmony to perform specific features that were built for PI 20.2.  For more a general introduction and tutorial, see [Harmony API Introduction](./Harmony%20Api%20Introduction.ipynb).  Useful helpers for making the calls found in this note book can be found under the [docs/notebook-helpers](./notebook-helpers) folder\n",
    "\n",
    "## Prerequisites\n",
    "\n",
    "1. Install Python 3.  This notebook is tested to work in 3.8 but should work in most recent 3.x versions.\n",
    "2. Install Jupyter: `pip install jupyterlab`\n",
    "3. Setup your `~/.netrc` for Earthdata Login as described in [Harmony API Introduction](./Harmony%20Api%20Introduction.ipynb)\n",
    "4. Run the following cell to install Python dependencies, import necessary modules, and set notebook defaults"
   ]
  },
  {
   "cell_type": "code",
   "execution_count": null,
   "metadata": {
    "tags": []
   },
   "outputs": [],
   "source": [
    "%load_ext autoreload\n",
    "%autoreload\n",
    "\n",
    "import sys, os\n",
    "# Install dependencies into the Jupyter Kernel\n",
    "!{sys.executable} -m pip install -q -r ../notebook_helpers/requirements.txt\n",
    "%matplotlib inline\n",
    "\n",
    "# Import libraries used throughout the notebook\n",
    "sys.path.append(os.path.normpath(os.path.join(os.getcwd(), '..')))\n",
    "from notebook_helpers import get, post, show, get_data_urls, show_async, show_async_condensed, print_async_status, show_shape"
   ]
  },
  {
   "cell_type": "markdown",
   "metadata": {},
   "source": [
    "## ASF Data Transformations in Harmony's Production Environment\n",
    "\n",
    "ASF's Sentinel-1 Interferograms (BETA) product is wired up to Harmony's new production environment in preparation for going operational next PI (don't tell the world yet though!)"
   ]
  },
  {
   "cell_type": "code",
   "execution_count": null,
   "metadata": {},
   "outputs": [],
   "source": [
    "asf_collection = 'C1595422627-ASF'\n",
    "coverages_root = 'https://harmony.earthdata.nasa.gov/{collection}/ogc-api-coverages/1.0.0/collections/{variable}/coverage/rangeset'"
   ]
  },
  {
   "cell_type": "markdown",
   "metadata": {},
   "source": [
    "### Variable and spatial subsetting with projecting, reformtatting output to PNG and spatial constraints\n",
    "Each parent NetCDF is approx. 60 MB and the subsetted pngs and geotiffs are well under 1 MB each."
   ]
  },
  {
   "cell_type": "code",
   "execution_count": null,
   "metadata": {
    "tags": []
   },
   "outputs": [],
   "source": [
    "response = get(\n",
    "    coverages_root.format(\n",
    "        collection=asf_collection, \n",
    "        variable='%2Fscience%2Fgrids%2Fdata%2FunwrappedPhase'), \n",
    "    params={\n",
    "       # 'granuleID': ['G1715962900-ASF', 'G1715965586-ASF'],\n",
    "        'format': 'image/png',\n",
    "        'outputcrs': 'EPSG:2230',\n",
    "        'subset': [\n",
    "            'lon(-115.5:-115.25)', \n",
    "            'lat(33:33.1)',\n",
    "             'time(\"2020-03-12T00:00:00Z\":\"2020-03-13T03:00:00Z\")'\n",
    "            ]})\n",
    "show_async_condensed(response)"
   ]
  },
  {
   "cell_type": "markdown",
   "metadata": {},
   "source": [
    "## Job Management and Scaling\n",
    "\n",
    "### Listing of Jobs\n",
    "If you are in the operators group, you can see all jobs in the system at https://harmony.earthdata.nasa.gov/admin/jobs.\n",
    "Users can see their own jobs at https://harmony.earthdata.nasa.gov/jobs."
   ]
  },
  {
   "cell_type": "code",
   "execution_count": null,
   "metadata": {
    "tags": []
   },
   "outputs": [],
   "source": [
    "admin_jobs='https://harmony.earthdata.nasa.gov/admin/jobs'\n",
    "my_jobs='https://harmony.earthdata.nasa.gov/jobs'\n",
    "response = get(admin_jobs)\n",
    "print(\"Jobs viewable as admin:\", response.json()['count'])\n",
    "\n",
    "response = get(my_jobs)\n",
    "print(\"Jobs viewable as myself:\", response.json()['count'])"
   ]
  },
  {
   "cell_type": "markdown",
   "metadata": {},
   "source": [
    "### Queing of jobs\n",
    "To show that jobs are queuing and to have time to cancel them, load the system up with a few longer running jobs"
   ]
  },
  {
   "cell_type": "code",
   "execution_count": null,
   "metadata": {
    "tags": []
   },
   "outputs": [],
   "source": [
    "#Request 1 - Spatial and variable subset; will find 654 granules and process the first 20\n",
    "response1 = get(\n",
    "    coverages_root.format(collection=asf_collection, variable='%2Fscience%2Fgrids%2Fdata%2Famplitude'), \n",
    "    params={\n",
    "        'format': 'image/png',\n",
    "        'outputcrs': 'EPSG:2230',\n",
    "        'subset': ['lon(-115.5:-115.25)', 'lat(33:33.1)']})\n",
    "\n",
    "#Request 2 - Reformat of Harmony test product\n",
    "response2 = get(coverages_root.format(collection='C1756916832-XYZ_PROV', variable='all'), params={'format': 'image/png'})\n",
    "\n",
    "#Request 3 - Reformat of Harmony test product\n",
    "response3 = get(coverages_root.format(collection='C1756916832-XYZ_PROV', variable='all'), params={'format': 'image/tiff'})\n",
    "   "
   ]
  },
  {
   "cell_type": "markdown",
   "metadata": {},
   "source": [
    "### List Recent jobs\n",
    "The jobs endpoints support paging to make it easier to navigate."
   ]
  },
  {
   "cell_type": "code",
   "execution_count": null,
   "metadata": {
    "tags": []
   },
   "outputs": [],
   "source": [
    "response = get(my_jobs,\n",
    "    params={'page': '1','limit': '10'})\n",
    "\n",
    "body = response.json()\n",
    "\n",
    "for job in body['jobs']:\n",
    "    print_async_status(job)\n"
   ]
  },
  {
   "cell_type": "markdown",
   "metadata": {},
   "source": [
    "#### Cancel a job"
   ]
  },
  {
   "cell_type": "code",
   "execution_count": null,
   "metadata": {
    "tags": []
   },
   "outputs": [],
   "source": [
    "\n",
    "\n",
    "my_jobs_cancel_root=my_jobs+'/{job_id}/cancel'\n",
    "response = post(my_jobs_cancel_root.format(job_id='5e03edf3-3e2f-4c77-87b4-a5fd8ff230ff'))\n",
    "\n",
    "print_async_status(response.json())"
   ]
  }
 ],
 "metadata": {
  "file_extension": ".py",
  "kernelspec": {
   "display_name": "Python 3 (ipykernel)",
   "language": "python",
   "name": "python3"
  },
  "language_info": {
   "codemirror_mode": {
    "name": "ipython",
    "version": 3
   },
   "file_extension": ".py",
   "mimetype": "text/x-python",
   "name": "python",
   "nbconvert_exporter": "python",
   "pygments_lexer": "ipython3",
   "version": "3.8.2"
  },
  "mimetype": "text/x-python",
  "name": "python",
  "npconvert_exporter": "python",
  "pygments_lexer": "ipython3",
  "version": 3
 },
 "nbformat": 4,
 "nbformat_minor": 4
}
