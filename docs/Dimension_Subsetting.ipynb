{
 "cells": [
  {
   "cell_type": "markdown",
   "id": "9d55385d",
   "metadata": {},
   "source": [
    "# Subsetting on Arbitrary Dimensions"
   ]
  },
  {
   "cell_type": "markdown",
   "id": "34ac8411",
   "metadata": {},
   "source": [
    "### Environment Setup\n",
    "Install the required packages in your virtual environment and import them"
   ]
  },
  {
   "cell_type": "code",
   "execution_count": null,
   "id": "d122949f",
   "metadata": {},
   "outputs": [],
   "source": [
    "import sys\n",
    "!{sys.executable} -m pip install netCDF4 harmony-py"
   ]
  },
  {
   "cell_type": "code",
   "execution_count": 2,
   "id": "f5c98b14",
   "metadata": {},
   "outputs": [],
   "source": [
    "from harmony import BBox, Client, Collection, Request, Dimension\n",
    "from harmony.config import Environment\n",
    "import os\n",
    "import netCDF4 as nc4"
   ]
  },
  {
   "cell_type": "markdown",
   "id": "fbb70fd1",
   "metadata": {},
   "source": [
    "### Request Helper Function"
   ]
  },
  {
   "cell_type": "markdown",
   "id": "96c634e4",
   "metadata": {},
   "source": [
    "Submits the Harmony request via harmony-py, downloads results to a local file, and returns the file name"
   ]
  },
  {
   "cell_type": "code",
   "execution_count": 3,
   "id": "72139df1",
   "metadata": {},
   "outputs": [],
   "source": [
    "def submit_request(request, harmony_client, output_dir):\n",
    "    job_id = harmony_client.submit(request)\n",
    "    harmony_client.wait_for_processing(job_id, show_progress=True)\n",
    "    if not os.path.exists(output_dir):\n",
    "        os.mkdir(output_dir)\n",
    "    results = harmony_client.download_all(job_id, directory=output_dir, overwrite=True)\n",
    "    file_names = [f.result() for f in results]\n",
    "    return file_names[0]"
   ]
  },
  {
   "cell_type": "markdown",
   "id": "a9d47e7a",
   "metadata": {},
   "source": [
    "### Request Execution with harmony-py"
   ]
  },
  {
   "cell_type": "markdown",
   "id": "ee756002",
   "metadata": {},
   "source": [
    "Construct the Harmony request, subsetting on **\"lev\"** and a bounding box"
   ]
  },
  {
   "cell_type": "code",
   "execution_count": 4,
   "id": "a1531fbd",
   "metadata": {},
   "outputs": [],
   "source": [
    "collection = Collection(id='C1215726323-GES_DISC')\n",
    "request = Request(\n",
    "    collection = collection,\n",
    "    spatial    = BBox(-160, -10, -75, 10),\n",
    "    dimensions = [Dimension(name='lev', min=800, max=900)],\n",
    "    max_results = 1\n",
    ")"
   ]
  },
  {
   "cell_type": "markdown",
   "id": "f1d10bfa",
   "metadata": {},
   "source": [
    "Submit the request to Harmony via harmony-py and output the result to `'./harmony_dimension_subset_results'`"
   ]
  },
  {
   "cell_type": "code",
   "execution_count": 5,
   "id": "6fd870cc",
   "metadata": {},
   "outputs": [
    {
     "name": "stderr",
     "output_type": "stream",
     "text": [
      " [ Processing:   0% ] |                                                   | [/]\n",
      " [ Processing:   0% ] |                                                   | [-]\n",
      " [ Processing:   0% ] |                                                   | [\\]\n",
      " [ Processing:   0% ] |                                                   | [|]\n",
      " [ Processing:   0% ] |                                                   | [/]\n",
      " [ Processing:   0% ] |                                                   | [-]\n",
      " [ Processing:   0% ] |                                                   | [\\]\n",
      " [ Processing:   0% ] |                                                   | [|]\n",
      " [ Processing:   0% ] |                                                   | [/]\n",
      " [ Processing:   0% ] |                                                   | [-]\n",
      " [ Processing:   0% ] |                                                   | [\\]\n",
      " [ Processing:   0% ] |                                                   | [|]\n",
      " [ Processing:   0% ] |                                                   | [/]\n",
      " [ Processing:   0% ] |                                                   | [-]\n",
      " [ Processing:   0% ] |                                                   | [\\]\n",
      " [ Processing:   0% ] |                                                   | [|]\n",
      " [ Processing:   0% ] |                                                   | [/]\n",
      " [ Processing:   0% ] |                                                   | [-]\n",
      " [ Processing: 100% ] |###################################################| [\\]\n",
      " [ Processing: 100% ] |###################################################| [|]\n"
     ]
    }
   ],
   "source": [
    "harmony_client = Client(env=Environment.UAT) # assumes .netrc usage\n",
    "harmony_fname = submit_request(request, harmony_client, './harmony_dimension_subset_results')"
   ]
  },
  {
   "cell_type": "markdown",
   "id": "b376dd6b",
   "metadata": {},
   "source": [
    "### Request Results\n",
    "Inspect the results to see how the data has been subsetted along **\"lev\"**, excluding values less than **800** and values greater than **900**"
   ]
  },
  {
   "cell_type": "code",
   "execution_count": 6,
   "id": "00b4eb94",
   "metadata": {},
   "outputs": [
    {
     "name": "stdout",
     "output_type": "stream",
     "text": [
      "[900. 875. 850. 825. 800.]\n",
      "800.0\n",
      "900.0\n"
     ]
    }
   ],
   "source": [
    "nc4_file=nc4.Dataset(harmony_fname)\n",
    "print(nc4_file.variables['lev'][:])\n",
    "print(min(nc4_file.variables['lev']))\n",
    "print(max(nc4_file.variables['lev']))"
   ]
  }
 ],
 "metadata": {
  "kernelspec": {
   "display_name": "harmony-py-2",
   "language": "python",
   "name": "python3"
  },
  "language_info": {
   "codemirror_mode": {
    "name": "ipython",
    "version": 3
   },
   "file_extension": ".py",
   "mimetype": "text/x-python",
   "name": "python",
   "nbconvert_exporter": "python",
   "pygments_lexer": "ipython3",
   "version": "3.10.9 (main, Dec 15 2022, 10:44:50) [Clang 14.0.0 (clang-1400.0.29.202)]"
  },
  "vscode": {
   "interpreter": {
    "hash": "0b2e47bcc8a39e15871f4e8589d0ba2555d84991023d9ce0f5eba3a69edcb329"
   }
  }
 },
 "nbformat": 4,
 "nbformat_minor": 5
}
