{
 "cells": [
  {
   "cell_type": "markdown",
   "metadata": {},
   "source": [
    "# Harmony Feature Examples\n",
    "\n",
    "This notebook provides condensed examples of using Harmony to perform specific tasks.  For more a general introduction and tutorial, see [Harmony API Introduction](./Harmony%20Api%20Introduction.ipynb).  Useful helpers for making the calls found in this note book can be found under the [docs/notebook-helpers](./notebook-helpers) folder\n",
    "\n",
    "## Prerequisites\n",
    "\n",
    "1. Install Python 3.  This notebook is tested to work in 3.8 but should work in most recent 3.x versions.\n",
    "2. Install Jupyter: `pip install jupyterlab`\n",
    "3. Setup your `~/.netrc` for Earthdata Login as described in [Harmony API Introduction](./Harmony%20Api%20Introduction.ipynb)\n",
    "4. Run the following cell to install Python dependencies, import necessary modules, and set notebook defaults"
   ]
  },
  {
   "cell_type": "code",
   "execution_count": null,
   "metadata": {
    "tags": []
   },
   "outputs": [],
   "source": [
    "%load_ext autoreload\n",
    "%autoreload\n",
    "\n",
    "import sys\n",
    "# Install dependencies into the Jupyter Kernel\n",
    "!{sys.executable} -m pip install -q -r notebook_helpers/requirements.txt\n",
    "!{sys.executable} -m pip install s3fs zarr\n",
    "\n",
    "%matplotlib inline\n",
    "# Import libraries used throughout the notebook\n",
    "from notebook_helpers import get, post, show, get_data_urls, show_async, show_async_condensed, show_shape, print_async_status"
   ]
  },
  {
   "cell_type": "markdown",
   "metadata": {},
   "source": [
    "## Example Data\n",
    "\n",
    "Harmony has produced example collections with artificial data but realistic structure to allow testing our services.  We have L3 and L2 NetCDF4 collections, and a shapefile collection."
   ]
  },
  {
   "cell_type": "code",
   "execution_count": null,
   "metadata": {},
   "outputs": [],
   "source": [
    "l3_collection = 'C1234088182-EEDTEST'\n",
    "l2_collection = 'C1233860183-EEDTEST'"
   ]
  },
  {
   "cell_type": "code",
   "execution_count": null,
   "metadata": {
    "tags": []
   },
   "outputs": [],
   "source": [
    "response = get(f'https://harmony.uat.earthdata.nasa.gov/service-results/harmony-uat-eedtest-data/{l3_collection}/nc/2020_01_15_ff4c00_global.nc')\n",
    "show(response)"
   ]
  },
  {
   "cell_type": "markdown",
   "metadata": {},
   "source": [
    "## OGC API - Coverages Requests"
   ]
  },
  {
   "cell_type": "code",
   "execution_count": null,
   "metadata": {},
   "outputs": [],
   "source": [
    "coverages_root = 'https://harmony.uat.earthdata.nasa.gov/{collection}/ogc-api-coverages/1.0.0/collections/{variable}/coverage/rangeset'"
   ]
  },
  {
   "cell_type": "markdown",
   "metadata": {},
   "source": [
    "### Bounding Box and Temporal Subsetting with Reformatting"
   ]
  },
  {
   "cell_type": "code",
   "execution_count": null,
   "metadata": {
    "tags": []
   },
   "outputs": [],
   "source": [
    "params = {\n",
    "    'subset': [\n",
    "        'lon(-20:90)', \n",
    "        'lat(0:60)', \n",
    "        'time(\"2020-01-15T00:00:00Z\":\"2020-01-15T01:00:00Z\")']\n",
    "}\n",
    "response = get(\n",
    "    coverages_root.format(\n",
    "        collection=l3_collection, \n",
    "        variable='all'), \n",
    "    params=params)\n",
    "\n",
    "show(response)"
   ]
  },
  {
   "cell_type": "markdown",
   "metadata": {},
   "source": [
    "### Variable Subsetting"
   ]
  },
  {
   "cell_type": "code",
   "execution_count": null,
   "metadata": {
    "tags": []
   },
   "outputs": [],
   "source": [
    "response = get(\n",
    "    coverages_root.format(\n",
    "        collection=l3_collection, \n",
    "        variable='green_var'), \n",
    "    params=params)\n",
    "\n",
    "show(response, color_index=1)"
   ]
  },
  {
   "cell_type": "markdown",
   "metadata": {},
   "source": [
    "### Shapefile Subsetting"
   ]
  },
  {
   "cell_type": "code",
   "execution_count": null,
   "metadata": {},
   "outputs": [],
   "source": [
    "show_shape('./notebook_helpers/namibia.geo.json')"
   ]
  },
  {
   "cell_type": "markdown",
   "metadata": {},
   "source": [
    "#### CMR Search"
   ]
  },
  {
   "cell_type": "code",
   "execution_count": null,
   "metadata": {
    "tags": []
   },
   "outputs": [],
   "source": [
    "cmr_params = { \n",
    "    'collection_concept_id': l3_collection,\n",
    "    'temporal': '2020-02-16T00:00:00Z,',\n",
    "    'page_size': 150}\n",
    "response = post('https://cmr.uat.earthdata.nasa.gov/search/granules.json', params=cmr_params)\n",
    "[e['title'] for e in response.json()['feed']['entry']]"
   ]
  },
  {
   "cell_type": "code",
   "execution_count": null,
   "metadata": {
    "tags": []
   },
   "outputs": [],
   "source": [
    "response = post(\n",
    "    'https://cmr.uat.earthdata.nasa.gov/search/granules.json', \n",
    "    files={ 'shapefile': ('namibia.geo.json', open('./notebook_helpers/namibia.geo.json', 'r'), 'application/geo+json') },\n",
    "    data=cmr_params)\n",
    "[e['title'] for e in response.json()['feed']['entry']]"
   ]
  },
  {
   "cell_type": "code",
   "execution_count": null,
   "metadata": {
    "tags": []
   },
   "outputs": [],
   "source": [
    "response = post(\n",
    "    coverages_root.format(\n",
    "        collection=l3_collection, \n",
    "        variable='all'), \n",
    "    data={ 'subset': 'time(\"2020-02-16T00:00:00Z\":*)' },\n",
    "    files={ 'shapefile': ('namibia.geo.json', open('./notebook_helpers/namibia.geo.json', 'r'), 'application/geo+json') })\n",
    "\n",
    "show(response, flip=False)"
   ]
  },
  {
   "cell_type": "markdown",
   "metadata": {},
   "source": [
    "### Regridding "
   ]
  },
  {
   "cell_type": "markdown",
   "metadata": {},
   "source": [
    "#### L2 Test Data"
   ]
  },
  {
   "cell_type": "code",
   "execution_count": null,
   "metadata": {
    "tags": []
   },
   "outputs": [],
   "source": [
    "response = get(f'https://harmony.uat.earthdata.nasa.gov/service-results/harmony-uat-eedtest-data/{l2_collection}/nc/015_02_210_europe.nc')\n",
    "show(response)"
   ]
  },
  {
   "cell_type": "markdown",
   "metadata": {},
   "source": [
    "#### Basic Regridding"
   ]
  },
  {
   "cell_type": "code",
   "execution_count": null,
   "metadata": {
    "tags": []
   },
   "outputs": [],
   "source": [
    "response = get(\n",
    "    coverages_root.format(\n",
    "        collection=l2_collection, \n",
    "        variable='all'), \n",
    "    params={\n",
    "        'outputCrs': 'EPSG:4326',\n",
    "        'subset': 'time(\"2020-01-15T16:00:00Z\":\"2020-01-15T17:00:00Z\")'})\n",
    "show(response)"
   ]
  },
  {
   "cell_type": "markdown",
   "metadata": {},
   "source": [
    "#### Advanced Regridding"
   ]
  },
  {
   "cell_type": "code",
   "execution_count": null,
   "metadata": {
    "tags": []
   },
   "outputs": [],
   "source": [
    "response = get(\n",
    "    coverages_root.format(\n",
    "        collection=l2_collection, \n",
    "        variable='all'), \n",
    "    params={\n",
    "        'outputCrs': '+proj=lcc +lat_1=43 +lat_2=62 +lat_0=30 +lon_0=10 +x_0=0 +y_0=0 +ellps=intl +units=m +no_defs',\n",
    "        'interpolation': 'near',\n",
    "        'scaleExtent': '-4000000,-1000000,5000000,7000000',\n",
    "        'subset': 'time(\"2020-01-15T16:00:00Z\":\"2020-01-15T17:00:00Z\")'})\n",
    "\n",
    "show(response)"
   ]
  },
  {
   "cell_type": "markdown",
   "metadata": {},
   "source": [
    "## Asynchronous Requests"
   ]
  },
  {
   "cell_type": "markdown",
   "metadata": {},
   "source": [
    "### Multiple Output Files"
   ]
  },
  {
   "cell_type": "code",
   "execution_count": null,
   "metadata": {
    "tags": []
   },
   "outputs": [],
   "source": [
    "response = get(\n",
    "    coverages_root.format(\n",
    "        collection=l3_collection, \n",
    "        variable='all'), \n",
    "    params={\n",
    "        'subset': [\n",
    "            'lon(-20:90)', \n",
    "            'lat(0:60)', \n",
    "            'time(\"2020-01-01T00:00:00Z\":\"2020-01-05T01:00:00Z\")']})\n",
    "show_async(response)"
   ]
  },
  {
   "cell_type": "markdown",
   "metadata": {},
   "source": [
    "### Zarr Reformatting"
   ]
  },
  {
   "cell_type": "code",
   "execution_count": null,
   "metadata": {
    "tags": []
   },
   "outputs": [],
   "source": [
    "response = get(\n",
    "    coverages_root.format(\n",
    "        collection=l3_collection, \n",
    "        variable='all'), \n",
    "    params={'subset': 'time(\"2020-01-15T00:00:00Z\":\"2020-01-16T01:00:00Z\")'},\n",
    "    headers = {'accept': 'application/x-zarr'})\n",
    "\n",
    "zarr_response = show_async(response)"
   ]
  },
  {
   "cell_type": "code",
   "execution_count": null,
   "metadata": {
    "tags": []
   },
   "outputs": [],
   "source": [
    "# Note: This will only work if you are running this notebook in the same AWS region as Harmony with valid credentials\n",
    "!{sys.executable} -m pip install -q 's3fs>=0.4.2' 'zarr>=2.4.0'\n",
    "\n",
    "import s3fs\n",
    "import zarr\n",
    "\n",
    "urls = get_data_urls(zarr_response)\n",
    "fs = s3fs.S3FileSystem(profile='uat')\n",
    "store = fs.get_mapper(root=urls[0], check=False)\n",
    "zarr_file = zarr.open(store)\n",
    "\n",
    "print(zarr_file.tree())"
   ]
  },
  {
   "cell_type": "code",
   "execution_count": null,
   "metadata": {},
   "outputs": [],
   "source": [
    "# Note: This will only work if you are running this notebook in the same AWS region as Harmony with valid credentials\n",
    "import numpy as np\n",
    "from matplotlib import pyplot as plt\n",
    "\n",
    "image = np.dstack([np.flip(zarr_file[v][0,900:1500,1600:2700], 0) for v in ['red_var', 'green_var', 'blue_var', 'alpha_var']])\n",
    "plt.imshow(image);"
   ]
  },
  {
   "cell_type": "markdown",
   "metadata": {},
   "source": [
    "### STAC"
   ]
  },
  {
   "cell_type": "code",
   "execution_count": null,
   "metadata": {
    "tags": []
   },
   "outputs": [],
   "source": [
    "from satstac import Catalog\n",
    "\n",
    "stac_urls = [link['href'] for link in zarr_response.json()['links'] if link.get('rel', 'data') == 'stac-catalog-json']\n",
    "cat = Catalog.open(stac_urls[0])\n",
    "\n",
    "for i in cat.items():\n",
    "    print('STAC Item')\n",
    "    print('\\t', 'ID:', i.id)\n",
    "    print('\\t', 'Date:', i.datetime)\n",
    "    print('\\t', 'Bounding Box:', i.bbox)\n",
    "    print('\\t', 'File:', list(i.assets.keys()))\n"
   ]
  },
  {
   "attachments": {},
   "cell_type": "markdown",
   "metadata": {},
   "source": [
    "Harmony STAC outputs can be validated via https://staclint.com/"
   ]
  },
  {
   "cell_type": "markdown",
   "metadata": {},
   "source": [
    "### Cancel Job"
   ]
  },
  {
   "cell_type": "code",
   "execution_count": null,
   "metadata": {
    "tags": []
   },
   "outputs": [],
   "source": [
    "#Add 3 requests\n",
    "response1 = get(coverages_root.format(collection=l3_collection, variable='all'), params={'format': 'image/tiff'})\n",
    "response2 = get(coverages_root.format(collection=l3_collection, variable='all'), params={'format': 'image/tiff'})\n",
    "response3 = get(coverages_root.format(collection=l3_collection, variable='all'), params={'format': 'image/tiff'})\n",
    "\n",
    "#List the requests\n",
    "my_jobs = 'https://harmony.uat.earthdata.nasa.gov/jobs'\n",
    "response = get(my_jobs,params={'page': '1','limit': '10'})\n",
    "body = response.json()\n",
    "\n",
    "for job in body['jobs']:\n",
    "    print_async_status(job)\n",
    "\n",
    "#Cancel one\n",
    "my_jobs_cancel_root=my_jobs+'/{job_id}/cancel'\n",
    "response = post(my_jobs_cancel_root.format(job_id=response3.json()['jobID']))\n",
    "\n",
    "print_async_status(response.json())\n",
    "\n",
    "assert response.json()['status'] == 'canceled'\n"
   ]
  },
  {
   "cell_type": "code",
   "execution_count": null,
   "metadata": {},
   "outputs": [],
   "source": [
    "# Cancel out the two paused requests\n",
    "response = post(my_jobs_cancel_root.format(job_id=response1.json()['jobID']))\n",
    "print_async_status(response.json())\n",
    "assert response.json()['status'] == 'canceled'\n",
    "\n",
    "response = post(my_jobs_cancel_root.format(job_id=response2.json()['jobID']))\n",
    "print_async_status(response.json())\n",
    "assert response.json()['status'] == 'canceled'\n"
   ]
  },
  {
   "cell_type": "markdown",
   "metadata": {},
   "source": [
    "_Minimizing time to science_"
   ]
  }
 ],
 "metadata": {
  "file_extension": ".py",
  "kernelspec": {
   "display_name": "Python 3",
   "language": "python",
   "name": "python3"
  },
  "language_info": {
   "codemirror_mode": {
    "name": "ipython",
    "version": 3
   },
   "file_extension": ".py",
   "mimetype": "text/x-python",
   "name": "python",
   "nbconvert_exporter": "python",
   "pygments_lexer": "ipython3",
   "version": "3.8.2"
  },
  "mimetype": "text/x-python",
  "name": "python",
  "npconvert_exporter": "python",
  "pygments_lexer": "ipython3",
  "version": 3
 },
 "nbformat": 4,
 "nbformat_minor": 4
}
