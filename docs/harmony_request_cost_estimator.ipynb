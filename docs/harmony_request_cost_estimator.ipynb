{
 "cells": [
  {
   "cell_type": "markdown",
   "id": "eb4f4f06-494d-4cf2-9493-f72e259f86c3",
   "metadata": {},
   "source": [
    "# Harmony Request Cost Estimation"
   ]
  },
  {
   "cell_type": "code",
   "execution_count": null,
   "id": "dccfa6d2-c63c-446a-adb8-1e412b9a6674",
   "metadata": {},
   "outputs": [],
   "source": [
    "import pandas as pd\n",
    "import numpy as np\n",
    "import torch\n",
    "import torch.nn as nn\n",
    "import matplotlib.pyplot as plt\n",
    "import matplotlib.colors as colors\n",
    "from sklearn.preprocessing import MinMaxScaler\n",
    "from sklearn.model_selection import cross_val_score\n",
    "from sklearn.model_selection import RepeatedKFold\n",
    "from xgboost import XGBRegressor\n",
    "import xgboost"
   ]
  },
  {
   "cell_type": "markdown",
   "id": "da5ceddd-a06c-4b01-a69a-a970e019fc9f",
   "metadata": {},
   "source": [
    "## Read Request Data"
   ]
  },
  {
   "cell_type": "code",
   "execution_count": null,
   "id": "98259623-ec2b-4896-b05a-e5997c004b92",
   "metadata": {},
   "outputs": [],
   "source": [
    "# df = pd.read_csv(\"./2000-requests-7-concurrent-users-sandbox.csv\")\n",
    "df = pd.read_csv(\"./266Requests-1-100-random-service-example-granules.csv\")\n",
    "# df = pd.read_csv(\"./30-requests.csv\")"
   ]
  },
  {
   "cell_type": "code",
   "execution_count": null,
   "id": "bac2842b-a6c0-4f68-a4fc-5fa1609de1e9",
   "metadata": {},
   "outputs": [],
   "source": [
    "df.head(5)"
   ]
  },
  {
   "cell_type": "markdown",
   "id": "171d4c3b-fd47-4ecc-a17a-a593d4e85d52",
   "metadata": {},
   "source": [
    "## See How Correlated the Features Are"
   ]
  },
  {
   "cell_type": "code",
   "execution_count": null,
   "id": "932dd3cc-5343-4a5e-8d01-9c083a8744be",
   "metadata": {},
   "outputs": [],
   "source": [
    "#  This function does the actual graphical plotting of the correlation matrix.  \n",
    "def plot_corr(df, size=25):\n",
    "    corr = df.corr()\n",
    "    fig, ax = plt.subplots(figsize=(size, size))\n",
    "    cax = ax.matshow(corr, cmap=plt.cm.RdYlGn, norm=colors.Normalize(vmin=0, vmax=1))\n",
    "    \n",
    "    plt.xticks(range(len(corr.columns)), corr.columns, rotation=70)\n",
    "    plt.yticks(range(len(corr.columns)), corr.columns)\n",
    "    fig.colorbar(cax)\n",
    "    for item in ([ax.title, ax.xaxis.label, ax.yaxis.label] +\n",
    "        ax.get_xticklabels() + ax.get_yticklabels()):\n",
    "        item.set_fontsize(20)\n",
    "    fig.savefig('corr_mat.png', bbox_inches='tight')"
   ]
  },
  {
   "cell_type": "code",
   "execution_count": null,
   "id": "9ec7ab8e-56f4-4d3d-b703-e869d018c2b3",
   "metadata": {},
   "outputs": [],
   "source": [
    "df.corr()"
   ]
  },
  {
   "cell_type": "code",
   "execution_count": null,
   "id": "2b1b298a-74ab-47b2-a238-9eaa034c8474",
   "metadata": {},
   "outputs": [],
   "source": [
    "# Correlation Plot\n",
    "df_c = df.copy()\n",
    "target = 'totalTime' \n",
    "df_c = df_c.drop_duplicates().dropna()\n",
    "plot_corr(df_c)"
   ]
  },
  {
   "cell_type": "markdown",
   "id": "82d65596-d961-4502-b5e1-ef6485d570d4",
   "metadata": {},
   "source": [
    "## Create Training Input/Output Sets"
   ]
  },
  {
   "cell_type": "code",
   "execution_count": null,
   "id": "89702359-1e1b-42b8-ac11-717fb239bdfa",
   "metadata": {},
   "outputs": [],
   "source": [
    "X_train = df.iloc[:,1:].values\n",
    "y_train = df.iloc[:,0].values"
   ]
  },
  {
   "cell_type": "code",
   "execution_count": null,
   "id": "25b9d412-2fb3-49c1-8ee9-1090926e2f18",
   "metadata": {},
   "outputs": [],
   "source": [
    "X_train.shape"
   ]
  },
  {
   "cell_type": "code",
   "execution_count": null,
   "id": "de3ae6ca-cc3b-409a-a3df-ea2efe6f7fff",
   "metadata": {},
   "outputs": [],
   "source": [
    "y_train.shape"
   ]
  },
  {
   "cell_type": "code",
   "execution_count": null,
   "id": "ff769d6c-d07e-402b-84d0-70f2021c5317",
   "metadata": {},
   "outputs": [],
   "source": [
    "X_train = torch.from_numpy(X_train.astype(np.float32)).view(-1,12)\n",
    "y_train = torch.from_numpy(y_train.astype(np.float32)).view(-1,1)"
   ]
  },
  {
   "cell_type": "code",
   "execution_count": null,
   "id": "87031fd6-0168-4c93-9a27-8c848d9bde43",
   "metadata": {},
   "outputs": [],
   "source": [
    "y_train.mean()"
   ]
  },
  {
   "cell_type": "markdown",
   "id": "4d3d9903-f3dd-424a-a13a-4c2de9f16821",
   "metadata": {},
   "source": [
    "## 3 Layer Linear Learner Model"
   ]
  },
  {
   "cell_type": "code",
   "execution_count": null,
   "id": "36005ae8-0021-43cb-97d4-36dcc2e55198",
   "metadata": {},
   "outputs": [],
   "source": [
    "input_size=12\n",
    "output_size=1"
   ]
  },
  {
   "cell_type": "code",
   "execution_count": null,
   "id": "6e61d48f-45a3-4514-9b01-ce40e6370c2d",
   "metadata": {},
   "outputs": [],
   "source": [
    "model = nn.Sequential(\n",
    "    nn.Linear(12 , 64),\n",
    "    nn.ReLU(),\n",
    "    nn.Linear(64, 32),\n",
    "    nn.ReLU(),\n",
    "    nn.Linear(32,1)\n",
    ")\n"
   ]
  },
  {
   "cell_type": "code",
   "execution_count": null,
   "id": "0ddc4bd8-f550-424d-b347-f983fe35ecdd",
   "metadata": {},
   "outputs": [],
   "source": [
    "learning_rate = 0.0001\n",
    "l = nn.MSELoss()\n",
    "optimizer = torch.optim.SGD(model.parameters(), lr =learning_rate )"
   ]
  },
  {
   "cell_type": "code",
   "execution_count": null,
   "id": "2c0323d7",
   "metadata": {
    "vscode": {
     "languageId": "julia"
    }
   },
   "outputs": [],
   "source": []
  },
  {
   "cell_type": "code",
   "execution_count": null,
   "id": "1f43382c-c8c1-400a-bc3f-3a4bf0739d4e",
   "metadata": {},
   "outputs": [],
   "source": [
    "num_epochs = 20000"
   ]
  },
  {
   "cell_type": "code",
   "execution_count": null,
   "id": "532b5679-f7b4-4852-b711-68a205f0dcf6",
   "metadata": {},
   "outputs": [],
   "source": [
    "for epoch in range(num_epochs):\n",
    "    #forward feed\n",
    "    y_pred = model(X_train.requires_grad_())\n",
    "\n",
    "    #calculate the loss\n",
    "    loss= l(y_pred, y_train)\n",
    "\n",
    "    #backward propagation: calculate gradients\n",
    "    loss.backward()\n",
    "\n",
    "    #update the weights\n",
    "    optimizer.step()\n",
    "\n",
    "    #clear out the gradients from the last step loss.backward()\n",
    "    optimizer.zero_grad()\n",
    "    \n",
    "    if epoch % 1000 == 0:\n",
    "        print('loss {}'.format(loss.item()))"
   ]
  },
  {
   "cell_type": "markdown",
   "id": "a2890648-3978-4895-a164-7d1ec4c2f3ec",
   "metadata": {},
   "source": [
    "### Test Our Model With Our Training Data (bleh)"
   ]
  },
  {
   "cell_type": "code",
   "execution_count": null,
   "id": "5f010bfd-ddfa-4205-90f9-7a9129e3aef2",
   "metadata": {},
   "outputs": [],
   "source": [
    "predicted = model(X_train).detach().numpy()"
   ]
  },
  {
   "cell_type": "markdown",
   "id": "0812630b-406c-4693-8b68-17e3df8997f3",
   "metadata": {},
   "source": [
    "### Plot Our Actual Values And Our Predicted Values To See How Well They Track"
   ]
  },
  {
   "cell_type": "code",
   "execution_count": null,
   "id": "9bbe49e8-97a1-48fa-88ed-8b4efc28c3c3",
   "metadata": {},
   "outputs": [],
   "source": [
    "def plot_predicted_vs_actual(actual, predicted):\n",
    "    plt.figure(figsize=(10,10))\n",
    "    plt.scatter(actual, predicted, c='crimson')\n",
    "    plt.ylabel('Predicted')\n",
    "    plt.xlabel('Actual')\n",
    "    plt.axis('equal')\n",
    "    \n",
    "    # Set logarithmic scale on the both variables\n",
    "    plt.xscale(\"log\")\n",
    "    plt.yscale(\"log\");\n",
    "    p1 = max(max(predicted), max(actual.numpy()))\n",
    "    p2 = min(min(predicted), min(actual.numpy()))\n",
    "    plt.plot([p1, p2], [p1, p2], 'b-')"
   ]
  },
  {
   "cell_type": "code",
   "execution_count": null,
   "id": "23254dcd-649e-4f9a-987c-72dd83e1659e",
   "metadata": {},
   "outputs": [],
   "source": [
    "plot_predicted_vs_actual(y_train, predicted)"
   ]
  },
  {
   "cell_type": "code",
   "execution_count": null,
   "id": "53faa283-7a40-4a13-bc2b-b8b6753f08fe",
   "metadata": {},
   "outputs": [],
   "source": []
  },
  {
   "cell_type": "markdown",
   "id": "8591a1cd-f5bf-4823-9569-6f38612061be",
   "metadata": {},
   "source": [
    "### Compute the Maxiumum Error (Max Error is About 5 Seconds When The Actual Value is Around 100 Seconds)"
   ]
  },
  {
   "cell_type": "code",
   "execution_count": null,
   "id": "bb92b54e-71ac-4af3-b4d9-0e0979eac0ab",
   "metadata": {},
   "outputs": [],
   "source": [
    "(predicted - y_train.numpy()).max()"
   ]
  },
  {
   "cell_type": "markdown",
   "id": "9dd50793-dfbf-453f-b8d1-ad4697713306",
   "metadata": {},
   "source": [
    "### Feature Impact Chart"
   ]
  },
  {
   "cell_type": "code",
   "execution_count": null,
   "id": "7d1ef921-3a35-4dc4-bb68-b52e1347748f",
   "metadata": {},
   "outputs": [],
   "source": [
    "df_new = df_c.corr().sort_values([target], ascending = False)\n",
    "df_new.drop(df_new.head(1).index, inplace=True)\n",
    "df_new.drop(df_new.tail(1).index, inplace=True)\n",
    "df_new['Index'] = df_new.index\n",
    "chart_title = (\"Feature Impact Chart - Correlation with Target (%s))\" % target)\n",
    "df_new.plot(x='Index', y=target, kind='bar', \n",
    "            title=chart_title,figsize=(17,10))"
   ]
  },
  {
   "cell_type": "markdown",
   "id": "aa5d1749-0f9d-45c2-9fb1-682d5ff78b91",
   "metadata": {},
   "source": [
    "## XGBoost"
   ]
  },
  {
   "cell_type": "code",
   "execution_count": null,
   "id": "fff8e460-6e47-4aa2-9fb7-c754e46ce358",
   "metadata": {},
   "outputs": [],
   "source": [
    "model = XGBRegressor(n_estimators=1000, max_depth=10, eta=0.1, subsample=0.7, colsample_bytree=0.8)"
   ]
  },
  {
   "cell_type": "markdown",
   "id": "f1f93462-5598-4085-89a3-118040de280c",
   "metadata": {},
   "source": [
    "### K-Fold cross validation"
   ]
  },
  {
   "cell_type": "code",
   "execution_count": null,
   "id": "d4be6c0c-2528-4620-ba88-3e92696d3e16",
   "metadata": {},
   "outputs": [],
   "source": [
    "# define model evaluation method\n",
    "cv = RepeatedKFold(n_splits=10, n_repeats=3, random_state=1)\n",
    "# evaluate model\n",
    "scores = cross_val_score(model, X_train.detach(), y_train, scoring='neg_mean_absolute_error', cv=cv, n_jobs=-1)"
   ]
  },
  {
   "cell_type": "code",
   "execution_count": null,
   "id": "eb832a49-16c3-4189-8508-1de8a51ad29f",
   "metadata": {},
   "outputs": [],
   "source": [
    "# force scores to be positive\n",
    "scores = np.absolute(scores)\n",
    "print('Mean MAE: %.3f (%.3f)' % (scores.mean(), scores.std()) )"
   ]
  },
  {
   "cell_type": "markdown",
   "id": "c888f919-10de-4af3-82cd-5cadaf73915c",
   "metadata": {},
   "source": [
    "### Train"
   ]
  },
  {
   "cell_type": "code",
   "execution_count": null,
   "id": "ed7839c1-d6c7-4a6e-b3b2-39fcc2380a20",
   "metadata": {},
   "outputs": [],
   "source": [
    "model.fit(X_train.detach(), y_train)"
   ]
  },
  {
   "cell_type": "code",
   "execution_count": null,
   "id": "7aab4f6c-4072-4ffd-aa1f-731f8e4cc0f9",
   "metadata": {},
   "outputs": [],
   "source": [
    "predicted = model.predict(X_train.detach())"
   ]
  },
  {
   "cell_type": "markdown",
   "id": "cfd284e0-1d45-4885-82f1-35b583b4ff97",
   "metadata": {},
   "source": [
    "### Plot Our Actual Values And Our Predicted Values To See How Well They Track"
   ]
  },
  {
   "cell_type": "code",
   "execution_count": null,
   "id": "fdb38b94-efdc-447d-b273-f030f5e28441",
   "metadata": {},
   "outputs": [],
   "source": [
    "plot_predicted_vs_actual(y_train, predicted)"
   ]
  },
  {
   "cell_type": "code",
   "execution_count": null,
   "id": "650cb4c3-778c-4189-8d71-6fde338823e2",
   "metadata": {},
   "outputs": [],
   "source": []
  }
 ],
 "metadata": {
  "kernelspec": {
   "display_name": "Python 3 (ipykernel)",
   "language": "python",
   "name": "python3"
  },
  "language_info": {
   "codemirror_mode": {
    "name": "ipython",
    "version": 3
   },
   "file_extension": ".py",
   "mimetype": "text/x-python",
   "name": "python",
   "nbconvert_exporter": "python",
   "pygments_lexer": "ipython3",
   "version": "3.9.5"
  }
 },
 "nbformat": 4,
 "nbformat_minor": 5
}
